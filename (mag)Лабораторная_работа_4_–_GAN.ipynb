{
  "nbformat": 4,
  "nbformat_minor": 0,
  "metadata": {
    "colab": {
      "provenance": []
    },
    "kernelspec": {
      "name": "python3",
      "display_name": "Python 3"
    },
    "language_info": {
      "name": "python"
    },
    "accelerator": "GPU",
    "gpuClass": "standard"
  },
  "cells": [
    {
      "cell_type": "markdown",
      "source": [
        "# Лабораторная работа (4) по GAN"
      ],
      "metadata": {
        "id": "ebwSXq_xD6O8"
      }
    },
    {
      "cell_type": "markdown",
      "source": [
        "**Введение**\n",
        "\n",
        "В этой лабораторной работе мы будем работать с генерирующей состязательной сетью (GAN), которая является мощным инструментом для генерации изображений, текстов и других типов данных. GAN состоят из двух нейронных сетей: генератора и дискриминатора. Генератор пытается создать новые объекты, которые похожи на обучающие примеры, а дискриминатор пытается отличить реальные примеры от фальшивых.\n",
        "\n",
        "В этой лабораторной работе мы будем работать с набором данных MNIST, который состоит из 6200 ч/б изображений размером 28x28 пикселя. Мы будем использовать генеративную модель для создания изображений, которые похожи на изображения из набора данных MNIST.\n",
        "\n",
        "Цель работы\n",
        "\n",
        "Целью данной лабораторной работы является изучение принципов работы генерирующих состязательных сетей (GAN) и применение их для создания изображений.\n",
        "\n",
        "**Необходимо:**\n",
        "\n",
        "Загрузить данные набора данных MNIST.\n",
        "\n",
        "Предобработать данные.\n",
        "\n",
        "Разбить данные на обучающую и тестовую выборки.\n",
        "\n",
        "Создать и обучить базовые сети генератора и дискриминатора.\n",
        "\n",
        "Оценить качество модели и проанализировать результат.\n",
        "\n",
        "Попробовать улучшить качество модели, экспериментируя с гиперпараметрами и архитектурой модели."
      ],
      "metadata": {
        "id": "GZKnlpKRAjaV"
      }
    },
    {
      "cell_type": "markdown",
      "source": [
        "Импорт библиотек"
      ],
      "metadata": {
        "id": "9Tv_SRanRHat"
      }
    },
    {
      "cell_type": "code",
      "execution_count": 1,
      "metadata": {
        "id": "M8SUhtkhNm-s"
      },
      "outputs": [],
      "source": [
        "import os\n",
        "os.environ['TF_CPP_MIN_LOG_LEVEL'] = '2'\n",
        "\n",
        "import numpy as np\n",
        "import matplotlib.pyplot as plt\n",
        "import time\n",
        "\n",
        "from tensorflow.keras.datasets import mnist\n",
        "import tensorflow.keras.backend as K\n",
        "import tensorflow as tf\n",
        "from tensorflow.keras.layers import Dense, Flatten, Reshape, Input, BatchNormalization, Dropout\n",
        "from tensorflow.keras.layers import Conv2D, Conv2DTranspose, LeakyReLU"
      ]
    },
    {
      "cell_type": "markdown",
      "source": [
        "Загрузка данных. Выберем в качестве данных изображения цифры 7. Установим размер бэтча."
      ],
      "metadata": {
        "id": "Jjd1EdiMRTpk"
      }
    },
    {
      "cell_type": "code",
      "source": [
        "# Загрузка набора данных\n",
        "import matplotlib \n",
        "(x_train, y_train), (x_test, y_test) = mnist.load_data()\n",
        "\n",
        "x_train = x_train[y_train == 7]\n",
        "y_train = y_train[y_train == 7]\n",
        "\n",
        "BUFFER_SIZE = x_train.shape[0]\n",
        "BATCH_SIZE = 32\n",
        "\n",
        "BUFFER_SIZE = BUFFER_SIZE // BATCH_SIZE * BATCH_SIZE\n",
        "x_train = x_train[:BUFFER_SIZE]\n",
        "y_train = y_train[:BUFFER_SIZE]\n",
        "print(x_train.shape, y_train.shape)\n",
        "plt.imshow(x_train[0])"
      ],
      "metadata": {
        "id": "gaEj56TrOQb4",
        "outputId": "c6c258b8-0b43-41e9-a256-78ddb7f5b094",
        "colab": {
          "base_uri": "https://localhost:8080/",
          "height": 466
        }
      },
      "execution_count": 4,
      "outputs": [
        {
          "output_type": "stream",
          "name": "stdout",
          "text": [
            "(6240, 28, 28) (6240,)\n"
          ]
        },
        {
          "output_type": "execute_result",
          "data": {
            "text/plain": [
              "<matplotlib.image.AxesImage at 0x7f4f121f6310>"
            ]
          },
          "metadata": {},
          "execution_count": 4
        },
        {
          "output_type": "display_data",
          "data": {
            "text/plain": [
              "<Figure size 640x480 with 1 Axes>"
            ],
            "image/png": "[encoded data removed]"
          },
          "metadata": {}
        }
      ]
    },
    {
      "cell_type": "code",
      "source": [
        "# стандартизация входных данных\n",
        "x_train = x_train / 255\n",
        "x_test = x_test / 255\n",
        "\n",
        "x_train = np.reshape(x_train, (len(x_train), 28, 28, 1)) #значения пикселей от 0 до  1, 1 канал (ч/б) изображение\n",
        "x_test = np.reshape(x_test, (len(x_test), 28, 28, 1))\n",
        "\n",
        "train_dataset = tf.data.Dataset.from_tensor_slices(x_train).shuffle(BUFFER_SIZE).batch(BATCH_SIZE)\n"
      ],
      "metadata": {
        "id": "uOfX3_cVOd5i"
      },
      "execution_count": 5,
      "outputs": []
    },
    {
      "cell_type": "code",
      "source": [
        "# формирование сетей\n",
        "hidden_dim = 2"
      ],
      "metadata": {
        "id": "r5Uck-4GOg9Z"
      },
      "execution_count": 6,
      "outputs": []
    },
    {
      "cell_type": "code",
      "source": [
        "def dropout_and_batch():\n",
        "  return Dropout(0.3)(BatchNormalization())"
      ],
      "metadata": {
        "id": "M1uIv00iOjY8"
      },
      "execution_count": 7,
      "outputs": []
    },
    {
      "cell_type": "markdown",
      "source": [
        "**Создание генератора**\n",
        "\n",
        "Теперь мы создадим генератор, который будет принимать на вход случайный шум и генерировать изображения."
      ],
      "metadata": {
        "id": "mzivyS0RCZY6"
      }
    },
    {
      "cell_type": "code",
      "source": [
        "# генератор\n",
        "generator = tf.keras.Sequential([\n",
        "  Dense(7 * 7 * 256, activation='relu', input_shape=(hidden_dim,)),\n",
        "  BatchNormalization(),\n",
        "  Reshape((7, 7, 256)),\n",
        "  Conv2DTranspose(128, (5, 5), strides=(1, 1), padding='same', activation='relu'),\n",
        "  BatchNormalization(),\n",
        "  Conv2DTranspose(64, (5, 5), strides=(2, 2), padding='same', activation='relu'),\n",
        "  BatchNormalization(),\n",
        "  Conv2DTranspose(1, (5, 5), strides=(2, 2), padding='same', activation='sigmoid')\n",
        "])"
      ],
      "metadata": {
        "id": "ggD5lqDpOlsy"
      },
      "execution_count": 8,
      "outputs": []
    },
    {
      "cell_type": "markdown",
      "source": [
        "**Создание дискриминатора**\n",
        "\n",
        "Теперь мы создадим дискриминатор, который будет принимать на вход изображение и выводить вероятность того, что оно является реальным."
      ],
      "metadata": {
        "id": "XwlUyODpCnC6"
      }
    },
    {
      "cell_type": "code",
      "source": [
        "# дискриминатор\n",
        "discriminator = tf.keras.Sequential()\n",
        "discriminator.add(Conv2D(64, (5, 5), strides=(2, 2), padding='same', input_shape=[28, 28, 1]))\n",
        "discriminator.add(LeakyReLU())\n",
        "discriminator.add(Dropout(0.3))\n",
        "\n",
        "discriminator.add(Conv2D(128, (5, 5), strides=(2, 2), padding='same'))\n",
        "discriminator.add(LeakyReLU())\n",
        "discriminator.add(Dropout(0.3))\n",
        "\n",
        "discriminator.add(Flatten())\n",
        "discriminator.add(Dense(1))\n"
      ],
      "metadata": {
        "id": "jzAMYH8gOpy8"
      },
      "execution_count": 9,
      "outputs": []
    },
    {
      "cell_type": "markdown",
      "source": [
        "Функция потерь для  генератора и дискриминатора"
      ],
      "metadata": {
        "id": "XRvuUzMkCtDm"
      }
    },
    {
      "cell_type": "code",
      "source": [
        "# потери\n",
        "lossf = cross_entropy = tf.keras.losses.BinaryCrossentropy(from_logits=True)  #(from_logits=True)"
      ],
      "metadata": {
        "id": "Lz5S0aiXOr4z"
      },
      "execution_count": 10,
      "outputs": []
    },
    {
      "cell_type": "code",
      "source": [
        "def generator_loss(fake_output):\n",
        "  loss = lossf(tf.ones_like(fake_output), fake_output)\n",
        "  return loss"
      ],
      "metadata": {
        "id": "S6s3rGy-Ou06"
      },
      "execution_count": 11,
      "outputs": []
    },
    {
      "cell_type": "code",
      "source": [
        "def discriminator_loss(real_output, fake_output):\n",
        "  real_loss = lossf(tf.ones_like(real_output), real_output)\n",
        "  fake_loss = lossf(tf.zeros_like(fake_output), fake_output)\n",
        "  total_loss = real_loss + fake_loss\n",
        "  return total_loss"
      ],
      "metadata": {
        "id": "gS0wVamEOxnD"
      },
      "execution_count": 12,
      "outputs": []
    },
    {
      "cell_type": "markdown",
      "source": [
        "Оптимизатор для генератора и дискриминатора используем Adam"
      ],
      "metadata": {
        "id": "72ZLON3EC74J"
      }
    },
    {
      "cell_type": "code",
      "source": [
        "generator_optimizer = tf.keras.optimizers.Adam()\n",
        "discriminator_optimizer = tf.keras.optimizers.Adam()"
      ],
      "metadata": {
        "id": "GCTicWXtO0uA"
      },
      "execution_count": 13,
      "outputs": []
    },
    {
      "cell_type": "markdown",
      "source": [
        "Функции для обучения"
      ],
      "metadata": {
        "id": "_OFQiPX8DCHm"
      }
    },
    {
      "cell_type": "code",
      "source": [
        "# обучение\n",
        "@tf.function\n",
        "def train_step(images):\n",
        "  noise = tf.random.normal([BATCH_SIZE, hidden_dim])\n",
        "\n",
        "  with tf.GradientTape() as gen_tape, tf.GradientTape() as disc_tape:\n",
        "    generated_images = generator(noise, training=True)\n",
        "\n",
        "    real_output = discriminator(images, training=True)\n",
        "    fake_output = discriminator(generated_images, training=True)\n",
        "\n",
        "    gen_loss = generator_loss(fake_output)\n",
        "    disc_loss = discriminator_loss(real_output, fake_output)\n",
        "\n",
        "  gradients_of_generator = gen_tape.gradient(gen_loss, generator.trainable_variables)\n",
        "  gradients_of_discriminator = disc_tape.gradient(disc_loss, discriminator.trainable_variables)\n",
        "\n",
        "  generator_optimizer.apply_gradients(zip(gradients_of_generator, generator.trainable_variables))\n",
        "  discriminator_optimizer.apply_gradients(zip(gradients_of_discriminator, discriminator.trainable_variables))\n",
        "\n",
        "  return gen_loss, disc_loss"
      ],
      "metadata": {
        "id": "ifRddGtUO2zg"
      },
      "execution_count": 14,
      "outputs": []
    },
    {
      "cell_type": "code",
      "source": [
        "def train(dataset, epochs):\n",
        "  history = []\n",
        "  MAX_PRINT_LABEL = 10\n",
        "  th = BUFFER_SIZE // (BATCH_SIZE * MAX_PRINT_LABEL)\n",
        "\n",
        "  for epoch in range(1, epochs + 1):\n",
        "    print(f'{epoch}/{EPOCHS}: ', end='')\n",
        "\n",
        "    start = time.time()\n",
        "    n = 0\n",
        "\n",
        "    gen_loss_epoch = 0\n",
        "    for image_batch in dataset:\n",
        "      gen_loss, disc_loss = train_step(image_batch)\n",
        "      gen_loss_epoch += K.mean(gen_loss)\n",
        "      if (n % th == 0): print('=', end='')\n",
        "      n += 1\n",
        "\n",
        "    history += [gen_loss_epoch / n]\n",
        "    print(': ' + str(history[-1]))\n",
        "    print('Время эпохи {} составляет {} секунд'.format(epoch, time.time() - start))\n",
        "\n",
        "  return history"
      ],
      "metadata": {
        "id": "wJxkVoFgO7Fj"
      },
      "execution_count": 15,
      "outputs": []
    },
    {
      "cell_type": "markdown",
      "source": [
        "Запуск процесса обучения. "
      ],
      "metadata": {
        "id": "RQULA6exDLke"
      }
    },
    {
      "cell_type": "code",
      "source": [
        "EPOCHS = 300\n",
        "history = train(train_dataset, EPOCHS)\n",
        "\n",
        "plt.plot(history)\n",
        "plt.grid(True)\n",
        "plt.show()"
      ],
      "metadata": {
        "id": "MBiSrpjdO99l",
        "outputId": "6fbc3582-1c80-4436-ae4d-7d5ae4e4eebe",
        "colab": {
          "base_uri": "https://localhost:8080/",
          "height": 11372
        }
      },
      "execution_count": 22,
      "outputs": [
        {
          "output_type": "stream",
          "name": "stdout",
          "text": [
            "1/300: ===========: tf.Tensor(0.80588245, shape=(), dtype=float32)\n",
            "Время эпохи 1 составляет 2.5552873611450195 секунд\n",
            "2/300: ===========: tf.Tensor(0.8135115, shape=(), dtype=float32)\n",
            "Время эпохи 2 составляет 1.726123571395874 секунд\n",
            "3/300: ===========: tf.Tensor(0.8171861, shape=(), dtype=float32)\n",
            "Время эпохи 3 составляет 1.4460291862487793 секунд\n",
            "4/300: ===========: tf.Tensor(0.79473174, shape=(), dtype=float32)\n",
            "Время эпохи 4 составляет 1.4566223621368408 секунд\n",
            "5/300: ===========: tf.Tensor(0.7841007, shape=(), dtype=float32)\n",
            "Время эпохи 5 составляет 1.454653024673462 секунд\n",
            "6/300: ===========: tf.Tensor(0.79251933, shape=(), dtype=float32)\n",
            "Время эпохи 6 составляет 1.4606084823608398 секунд\n",
            "7/300: ===========: tf.Tensor(0.7942791, shape=(), dtype=float32)\n",
            "Время эпохи 7 составляет 1.7326979637145996 секунд\n",
            "8/300: ===========: tf.Tensor(0.80308354, shape=(), dtype=float32)\n",
            "Время эпохи 8 составляет 1.5423574447631836 секунд\n",
            "9/300: ===========: tf.Tensor(0.8834245, shape=(), dtype=float32)\n",
            "Время эпохи 9 составляет 1.4652116298675537 секунд\n",
            "10/300: ===========: tf.Tensor(0.8145264, shape=(), dtype=float32)\n",
            "Время эпохи 10 составляет 1.4696147441864014 секунд\n",
            "11/300: ===========: tf.Tensor(0.87448525, shape=(), dtype=float32)\n",
            "Время эпохи 11 составляет 1.4820737838745117 секунд\n",
            "12/300: ===========: tf.Tensor(0.804427, shape=(), dtype=float32)\n",
            "Время эпохи 12 составляет 1.482069730758667 секунд\n",
            "13/300: ===========: tf.Tensor(0.82956856, shape=(), dtype=float32)\n",
            "Время эпохи 13 составляет 1.4906134605407715 секунд\n",
            "14/300: ===========: tf.Tensor(0.8308325, shape=(), dtype=float32)\n",
            "Время эпохи 14 составляет 1.4801154136657715 секунд\n",
            "15/300: ===========: tf.Tensor(0.80693007, shape=(), dtype=float32)\n",
            "Время эпохи 15 составляет 1.6632249355316162 секунд\n",
            "16/300: ===========: tf.Tensor(0.82642424, shape=(), dtype=float32)\n",
            "Время эпохи 16 составляет 1.592470645904541 секунд\n",
            "17/300: ===========: tf.Tensor(0.8064142, shape=(), dtype=float32)\n",
            "Время эпохи 17 составляет 1.4789254665374756 секунд\n",
            "18/300: ===========: tf.Tensor(0.8133712, shape=(), dtype=float32)\n",
            "Время эпохи 18 составляет 1.469635009765625 секунд\n",
            "19/300: ===========: tf.Tensor(0.8452131, shape=(), dtype=float32)\n",
            "Время эпохи 19 составляет 1.4654343128204346 секунд\n",
            "20/300: ===========: tf.Tensor(0.8427572, shape=(), dtype=float32)\n",
            "Время эпохи 20 составляет 1.471496820449829 секунд\n",
            "21/300: ===========: tf.Tensor(0.8006951, shape=(), dtype=float32)\n",
            "Время эпохи 21 составляет 1.4648327827453613 секунд\n",
            "22/300: ===========: tf.Tensor(0.8761302, shape=(), dtype=float32)\n",
            "Время эпохи 22 составляет 1.4622366428375244 секунд\n",
            "23/300: ===========: tf.Tensor(0.95494014, shape=(), dtype=float32)\n",
            "Время эпохи 23 составляет 1.6469380855560303 секунд\n",
            "24/300: ===========: tf.Tensor(0.91138923, shape=(), dtype=float32)\n",
            "Время эпохи 24 составляет 1.5757029056549072 секунд\n",
            "25/300: ===========: tf.Tensor(0.8551078, shape=(), dtype=float32)\n",
            "Время эпохи 25 составляет 2.544400215148926 секунд\n",
            "26/300: ===========: tf.Tensor(0.8207823, shape=(), dtype=float32)\n",
            "Время эпохи 26 составляет 1.450232982635498 секунд\n",
            "27/300: ===========: tf.Tensor(0.8320222, shape=(), dtype=float32)\n",
            "Время эпохи 27 составляет 1.4361162185668945 секунд\n",
            "28/300: ===========: tf.Tensor(0.85658735, shape=(), dtype=float32)\n",
            "Время эпохи 28 составляет 1.4460043907165527 секунд\n",
            "29/300: ===========: tf.Tensor(0.81589425, shape=(), dtype=float32)\n",
            "Время эпохи 29 составляет 1.4325995445251465 секунд\n",
            "30/300: ===========: tf.Tensor(0.8580589, shape=(), dtype=float32)\n",
            "Время эпохи 30 составляет 1.5410573482513428 секунд\n",
            "31/300: ===========: tf.Tensor(0.81751883, shape=(), dtype=float32)\n",
            "Время эпохи 31 составляет 1.6867094039916992 секунд\n",
            "32/300: ===========: tf.Tensor(0.78689027, shape=(), dtype=float32)\n",
            "Время эпохи 32 составляет 1.4347522258758545 секунд\n",
            "33/300: ===========: tf.Tensor(0.81133425, shape=(), dtype=float32)\n",
            "Время эпохи 33 составляет 1.4373300075531006 секунд\n",
            "34/300: ===========: tf.Tensor(0.8241025, shape=(), dtype=float32)\n",
            "Время эпохи 34 составляет 1.428016185760498 секунд\n",
            "35/300: ===========: tf.Tensor(0.8562643, shape=(), dtype=float32)\n",
            "Время эпохи 35 составляет 1.4276301860809326 секунд\n",
            "36/300: ===========: tf.Tensor(0.9213639, shape=(), dtype=float32)\n",
            "Время эпохи 36 составляет 1.4312934875488281 секунд\n",
            "37/300: ===========: tf.Tensor(0.90044165, shape=(), dtype=float32)\n",
            "Время эпохи 37 составляет 1.4244554042816162 секунд\n",
            "38/300: ===========: tf.Tensor(0.9016908, shape=(), dtype=float32)\n",
            "Время эпохи 38 составляет 1.4643847942352295 секунд\n",
            "39/300: ===========: tf.Tensor(0.79698074, shape=(), dtype=float32)\n",
            "Время эпохи 39 составляет 1.693535327911377 секунд\n",
            "40/300: ===========: tf.Tensor(0.8061996, shape=(), dtype=float32)\n",
            "Время эпохи 40 составляет 1.5406386852264404 секунд\n",
            "41/300: ===========: tf.Tensor(0.8113638, shape=(), dtype=float32)\n",
            "Время эпохи 41 составляет 1.423072338104248 секунд\n",
            "42/300: ===========: tf.Tensor(0.82786906, shape=(), dtype=float32)\n",
            "Время эпохи 42 составляет 1.4236457347869873 секунд\n",
            "43/300: ===========: tf.Tensor(0.87038285, shape=(), dtype=float32)\n",
            "Время эпохи 43 составляет 1.4283332824707031 секунд\n",
            "44/300: ===========: tf.Tensor(0.8454128, shape=(), dtype=float32)\n",
            "Время эпохи 44 составляет 2.543731212615967 секунд\n",
            "45/300: ===========: tf.Tensor(0.8352996, shape=(), dtype=float32)\n",
            "Время эпохи 45 составляет 1.4194903373718262 секунд\n",
            "46/300: ===========: tf.Tensor(0.9513325, shape=(), dtype=float32)\n",
            "Время эпохи 46 составляет 1.5761528015136719 секунд\n",
            "47/300: ===========: tf.Tensor(0.91574574, shape=(), dtype=float32)\n",
            "Время эпохи 47 составляет 1.6267435550689697 секунд\n",
            "48/300: ===========: tf.Tensor(0.9284556, shape=(), dtype=float32)\n",
            "Время эпохи 48 составляет 1.4337105751037598 секунд\n",
            "49/300: ===========: tf.Tensor(0.9454479, shape=(), dtype=float32)\n",
            "Время эпохи 49 составляет 1.4254510402679443 секунд\n",
            "50/300: ===========: tf.Tensor(0.8571788, shape=(), dtype=float32)\n",
            "Время эпохи 50 составляет 1.4438073635101318 секунд\n",
            "51/300: ===========: tf.Tensor(0.82344407, shape=(), dtype=float32)\n",
            "Время эпохи 51 составляет 1.4343576431274414 секунд\n",
            "52/300: ===========: tf.Tensor(0.80453336, shape=(), dtype=float32)\n",
            "Время эпохи 52 составляет 1.436453104019165 секунд\n",
            "53/300: ===========: tf.Tensor(0.7676567, shape=(), dtype=float32)\n",
            "Время эпохи 53 составляет 1.4476053714752197 секунд\n",
            "54/300: ===========: tf.Tensor(0.7801066, shape=(), dtype=float32)\n",
            "Время эпохи 54 составляет 1.4999902248382568 секунд\n",
            "55/300: ===========: tf.Tensor(0.82392883, shape=(), dtype=float32)\n",
            "Время эпохи 55 составляет 1.707639217376709 секунд\n",
            "56/300: ===========: tf.Tensor(0.79144293, shape=(), dtype=float32)\n",
            "Время эпохи 56 составляет 1.47900390625 секунд\n",
            "57/300: ===========: tf.Tensor(0.8255866, shape=(), dtype=float32)\n",
            "Время эпохи 57 составляет 1.4492273330688477 секунд\n",
            "58/300: ===========: tf.Tensor(0.80313855, shape=(), dtype=float32)\n",
            "Время эпохи 58 составляет 1.434586524963379 секунд\n",
            "59/300: ===========: tf.Tensor(0.82662237, shape=(), dtype=float32)\n",
            "Время эпохи 59 составляет 1.4491708278656006 секунд\n",
            "60/300: ===========: tf.Tensor(0.7914098, shape=(), dtype=float32)\n",
            "Время эпохи 60 составляет 1.4477479457855225 секунд\n",
            "61/300: ===========: tf.Tensor(0.8423794, shape=(), dtype=float32)\n",
            "Время эпохи 61 составляет 1.445504903793335 секунд\n",
            "62/300: ===========: tf.Tensor(0.86715305, shape=(), dtype=float32)\n",
            "Время эпохи 62 составляет 1.478133201599121 секунд\n",
            "63/300: ===========: tf.Tensor(0.84646386, shape=(), dtype=float32)\n",
            "Время эпохи 63 составляет 1.7010011672973633 секунд\n",
            "64/300: ===========: tf.Tensor(0.84742004, shape=(), dtype=float32)\n",
            "Время эпохи 64 составляет 1.548703908920288 секунд\n",
            "65/300: ===========: tf.Tensor(0.8060523, shape=(), dtype=float32)\n",
            "Время эпохи 65 составляет 1.444032907485962 секунд\n",
            "66/300: ===========: tf.Tensor(0.8199365, shape=(), dtype=float32)\n",
            "Время эпохи 66 составляет 1.4460256099700928 секунд\n",
            "67/300: ===========: tf.Tensor(0.84957653, shape=(), dtype=float32)\n",
            "Время эпохи 67 составляет 1.4483418464660645 секунд\n",
            "68/300: ===========: tf.Tensor(0.84278315, shape=(), dtype=float32)\n",
            "Время эпохи 68 составляет 1.4404118061065674 секунд\n",
            "69/300: ===========: tf.Tensor(0.8390313, shape=(), dtype=float32)\n",
            "Время эпохи 69 составляет 1.450218915939331 секунд\n",
            "70/300: ===========: tf.Tensor(0.8719525, shape=(), dtype=float32)\n",
            "Время эпохи 70 составляет 1.4460291862487793 секунд\n",
            "71/300: ===========: tf.Tensor(0.828518, shape=(), dtype=float32)\n",
            "Время эпохи 71 составляет 1.6515212059020996 секунд\n",
            "72/300: ===========: tf.Tensor(0.80321723, shape=(), dtype=float32)\n",
            "Время эпохи 72 составляет 1.5764448642730713 секунд\n",
            "73/300: ===========: tf.Tensor(0.8481991, shape=(), dtype=float32)\n",
            "Время эпохи 73 составляет 1.4402084350585938 секунд\n",
            "74/300: ===========: tf.Tensor(0.87396723, shape=(), dtype=float32)\n",
            "Время эпохи 74 составляет 1.45692777633667 секунд\n",
            "75/300: ===========: tf.Tensor(0.85571706, shape=(), dtype=float32)\n",
            "Время эпохи 75 составляет 1.4434523582458496 секунд\n",
            "76/300: ===========: tf.Tensor(0.88148373, shape=(), dtype=float32)\n",
            "Время эпохи 76 составляет 1.4421319961547852 секунд\n",
            "77/300: ===========: tf.Tensor(0.84281904, shape=(), dtype=float32)\n",
            "Время эпохи 77 составляет 1.4464876651763916 секунд\n",
            "78/300: ===========: tf.Tensor(0.85397536, shape=(), dtype=float32)\n",
            "Время эпохи 78 составляет 1.4413182735443115 секунд\n",
            "79/300: ===========: tf.Tensor(0.8275782, shape=(), dtype=float32)\n",
            "Время эпохи 79 составляет 1.6331994533538818 секунд\n",
            "80/300: ===========: tf.Tensor(0.8212287, shape=(), dtype=float32)\n",
            "Время эпохи 80 составляет 1.6328797340393066 секунд\n",
            "81/300: ===========: tf.Tensor(0.82249105, shape=(), dtype=float32)\n",
            "Время эпохи 81 составляет 1.4531071186065674 секунд\n",
            "82/300: ===========: tf.Tensor(0.83986205, shape=(), dtype=float32)\n",
            "Время эпохи 82 составляет 1.4351961612701416 секунд\n",
            "83/300: ===========: tf.Tensor(0.84585303, shape=(), dtype=float32)\n",
            "Время эпохи 83 составляет 1.4449682235717773 секунд\n",
            "84/300: ===========: tf.Tensor(0.8135973, shape=(), dtype=float32)\n",
            "Время эпохи 84 составляет 1.4446892738342285 секунд\n",
            "85/300: ===========: tf.Tensor(0.80709356, shape=(), dtype=float32)\n",
            "Время эпохи 85 составляет 1.437645673751831 секунд\n",
            "86/300: ===========: tf.Tensor(0.8181702, shape=(), dtype=float32)\n",
            "Время эпохи 86 составляет 1.43440842628479 секунд\n",
            "87/300: ===========: tf.Tensor(0.803266, shape=(), dtype=float32)\n",
            "Время эпохи 87 составляет 1.54341459274292 секунд\n",
            "88/300: ===========: tf.Tensor(0.8366066, shape=(), dtype=float32)\n",
            "Время эпохи 88 составляет 1.6847600936889648 секунд\n",
            "89/300: ===========: tf.Tensor(0.8466796, shape=(), dtype=float32)\n",
            "Время эпохи 89 составляет 1.4288530349731445 секунд\n",
            "90/300: ===========: tf.Tensor(0.8554988, shape=(), dtype=float32)\n",
            "Время эпохи 90 составляет 1.431326150894165 секунд\n",
            "91/300: ===========: tf.Tensor(0.83313936, shape=(), dtype=float32)\n",
            "Время эпохи 91 составляет 1.4285688400268555 секунд\n",
            "92/300: ===========: tf.Tensor(0.79283476, shape=(), dtype=float32)\n",
            "Время эпохи 92 составляет 1.4310214519500732 секунд\n",
            "93/300: ===========: tf.Tensor(0.80257237, shape=(), dtype=float32)\n",
            "Время эпохи 93 составляет 1.4371483325958252 секунд\n",
            "94/300: ===========: tf.Tensor(0.78360707, shape=(), dtype=float32)\n",
            "Время эпохи 94 составляет 1.4294700622558594 секунд\n",
            "95/300: ===========: tf.Tensor(0.83256584, shape=(), dtype=float32)\n",
            "Время эпохи 95 составляет 1.4778895378112793 секунд\n",
            "96/300: ===========: tf.Tensor(0.801149, shape=(), dtype=float32)\n",
            "Время эпохи 96 составляет 1.6948165893554688 секунд\n",
            "97/300: ===========: tf.Tensor(0.81964767, shape=(), dtype=float32)\n",
            "Время эпохи 97 составляет 1.530402421951294 секунд\n",
            "98/300: ===========: tf.Tensor(0.81021976, shape=(), dtype=float32)\n",
            "Время эпохи 98 составляет 1.428410530090332 секунд\n",
            "99/300: ===========: tf.Tensor(0.85023904, shape=(), dtype=float32)\n",
            "Время эпохи 99 составляет 1.4357492923736572 секунд\n",
            "100/300: ===========: tf.Tensor(0.8058825, shape=(), dtype=float32)\n",
            "Время эпохи 100 составляет 1.4368937015533447 секунд\n",
            "101/300: ===========: tf.Tensor(0.8059774, shape=(), dtype=float32)\n",
            "Время эпохи 101 составляет 1.4262802600860596 секунд\n",
            "102/300: ===========: tf.Tensor(0.8480673, shape=(), dtype=float32)\n",
            "Время эпохи 102 составляет 1.4393997192382812 секунд\n",
            "103/300: ===========: tf.Tensor(0.8173795, shape=(), dtype=float32)\n",
            "Время эпохи 103 составляет 1.4325206279754639 секунд\n",
            "104/300: ===========: tf.Tensor(0.8681011, shape=(), dtype=float32)\n",
            "Время эпохи 104 составляет 1.6460354328155518 секунд\n",
            "105/300: ===========: tf.Tensor(0.85991365, shape=(), dtype=float32)\n",
            "Время эпохи 105 составляет 1.5932564735412598 секунд\n",
            "106/300: ===========: tf.Tensor(0.8196073, shape=(), dtype=float32)\n",
            "Время эпохи 106 составляет 1.4300827980041504 секунд\n",
            "107/300: ===========: tf.Tensor(0.8140323, shape=(), dtype=float32)\n",
            "Время эпохи 107 составляет 1.4334745407104492 секунд\n",
            "108/300: ===========: tf.Tensor(0.8175317, shape=(), dtype=float32)\n",
            "Время эпохи 108 составляет 1.4341754913330078 секунд\n",
            "109/300: ===========: tf.Tensor(0.8113183, shape=(), dtype=float32)\n",
            "Время эпохи 109 составляет 1.4508235454559326 секунд\n",
            "110/300: ===========: tf.Tensor(0.8043506, shape=(), dtype=float32)\n",
            "Время эпохи 110 составляет 1.4366588592529297 секунд\n",
            "111/300: ===========: tf.Tensor(0.791294, shape=(), dtype=float32)\n",
            "Время эпохи 111 составляет 1.4388623237609863 секунд\n",
            "112/300: ===========: tf.Tensor(0.78152573, shape=(), dtype=float32)\n",
            "Время эпохи 112 составляет 2.5433261394500732 секунд\n",
            "113/300: ===========: tf.Tensor(0.81912524, shape=(), dtype=float32)\n",
            "Время эпохи 113 составляет 1.436936616897583 секунд\n",
            "114/300: ===========: tf.Tensor(0.8524966, shape=(), dtype=float32)\n",
            "Время эпохи 114 составляет 1.437959909439087 секунд\n",
            "115/300: ===========: tf.Tensor(0.8004381, shape=(), dtype=float32)\n",
            "Время эпохи 115 составляет 1.4404141902923584 секунд\n",
            "116/300: ===========: tf.Tensor(0.84186965, shape=(), dtype=float32)\n",
            "Время эпохи 116 составляет 1.428748607635498 секунд\n",
            "117/300: ===========: tf.Tensor(0.8607537, shape=(), dtype=float32)\n",
            "Время эпохи 117 составляет 1.4369618892669678 секунд\n",
            "118/300: ===========: tf.Tensor(0.83449525, shape=(), dtype=float32)\n",
            "Время эпохи 118 составляет 1.4366064071655273 секунд\n",
            "119/300: ===========: tf.Tensor(0.8694805, shape=(), dtype=float32)\n",
            "Время эпохи 119 составляет 1.4697084426879883 секунд\n",
            "120/300: ===========: tf.Tensor(0.8134851, shape=(), dtype=float32)\n",
            "Время эпохи 120 составляет 1.686617374420166 секунд\n",
            "121/300: ===========: tf.Tensor(0.8151816, shape=(), dtype=float32)\n",
            "Время эпохи 121 составляет 1.5064737796783447 секунд\n",
            "122/300: ===========: tf.Tensor(0.8108805, shape=(), dtype=float32)\n",
            "Время эпохи 122 составляет 1.4408738613128662 секунд\n",
            "123/300: ===========: tf.Tensor(0.8000183, shape=(), dtype=float32)\n",
            "Время эпохи 123 составляет 1.4473745822906494 секунд\n",
            "124/300: ===========: tf.Tensor(0.81211096, shape=(), dtype=float32)\n",
            "Время эпохи 124 составляет 1.432833194732666 секунд\n",
            "125/300: ===========: tf.Tensor(0.7830852, shape=(), dtype=float32)\n",
            "Время эпохи 125 составляет 1.4395065307617188 секунд\n",
            "126/300: ===========: tf.Tensor(0.81826055, shape=(), dtype=float32)\n",
            "Время эпохи 126 составляет 1.4450550079345703 секунд\n",
            "127/300: ===========: tf.Tensor(0.8306883, shape=(), dtype=float32)\n",
            "Время эпохи 127 составляет 1.4444923400878906 секунд\n",
            "128/300: ===========: tf.Tensor(0.82746285, shape=(), dtype=float32)\n",
            "Время эпохи 128 составляет 1.6372761726379395 секунд\n",
            "129/300: ===========: tf.Tensor(0.788574, shape=(), dtype=float32)\n",
            "Время эпохи 129 составляет 1.6080174446105957 секунд\n",
            "130/300: ===========: tf.Tensor(0.7983274, shape=(), dtype=float32)\n",
            "Время эпохи 130 составляет 1.4529609680175781 секунд\n",
            "131/300: ===========: tf.Tensor(0.82272905, shape=(), dtype=float32)\n",
            "Время эпохи 131 составляет 1.4437503814697266 секунд\n",
            "132/300: ===========: tf.Tensor(0.8102544, shape=(), dtype=float32)\n",
            "Время эпохи 132 составляет 1.442521572113037 секунд\n",
            "133/300: ===========: tf.Tensor(0.84294355, shape=(), dtype=float32)\n",
            "Время эпохи 133 составляет 2.545670986175537 секунд\n",
            "134/300: ===========: tf.Tensor(0.83064663, shape=(), dtype=float32)\n",
            "Время эпохи 134 составляет 1.4345498085021973 секунд\n",
            "135/300: ===========: tf.Tensor(0.85814506, shape=(), dtype=float32)\n",
            "Время эпохи 135 составляет 1.5212650299072266 секунд\n",
            "136/300: ===========: tf.Tensor(0.869163, shape=(), dtype=float32)\n",
            "Время эпохи 136 составляет 1.642057180404663 секунд\n",
            "137/300: ===========: tf.Tensor(0.84021163, shape=(), dtype=float32)\n",
            "Время эпохи 137 составляет 1.4350192546844482 секунд\n",
            "138/300: ===========: tf.Tensor(0.81542015, shape=(), dtype=float32)\n",
            "Время эпохи 138 составляет 1.4367687702178955 секунд\n",
            "139/300: ===========: tf.Tensor(0.8489563, shape=(), dtype=float32)\n",
            "Время эпохи 139 составляет 1.4336628913879395 секунд\n",
            "140/300: ===========: tf.Tensor(0.7857756, shape=(), dtype=float32)\n",
            "Время эпохи 140 составляет 1.4455931186676025 секунд\n",
            "141/300: ===========: tf.Tensor(0.82195675, shape=(), dtype=float32)\n",
            "Время эпохи 141 составляет 1.4411182403564453 секунд\n",
            "142/300: ===========: tf.Tensor(0.8369153, shape=(), dtype=float32)\n",
            "Время эпохи 142 составляет 1.4565925598144531 секунд\n",
            "143/300: ===========: tf.Tensor(0.88885325, shape=(), dtype=float32)\n",
            "Время эпохи 143 составляет 1.4837861061096191 секунд\n",
            "144/300: ===========: tf.Tensor(0.8531412, shape=(), dtype=float32)\n",
            "Время эпохи 144 составляет 1.7285478115081787 секунд\n",
            "145/300: ===========: tf.Tensor(0.8617373, shape=(), dtype=float32)\n",
            "Время эпохи 145 составляет 1.5152528285980225 секунд\n",
            "146/300: ===========: tf.Tensor(0.86111677, shape=(), dtype=float32)\n",
            "Время эпохи 146 составляет 1.4336450099945068 секунд\n",
            "147/300: ===========: tf.Tensor(0.83801395, shape=(), dtype=float32)\n",
            "Время эпохи 147 составляет 1.4386451244354248 секунд\n",
            "148/300: ===========: tf.Tensor(0.85104066, shape=(), dtype=float32)\n",
            "Время эпохи 148 составляет 1.4411981105804443 секунд\n",
            "149/300: ===========: tf.Tensor(0.8387571, shape=(), dtype=float32)\n",
            "Время эпохи 149 составляет 1.4413809776306152 секунд\n",
            "150/300: ===========: tf.Tensor(0.8503853, shape=(), dtype=float32)\n",
            "Время эпохи 150 составляет 1.447277307510376 секунд\n",
            "151/300: ===========: tf.Tensor(0.91080856, shape=(), dtype=float32)\n",
            "Время эпохи 151 составляет 1.4366285800933838 секунд\n",
            "152/300: ===========: tf.Tensor(0.8666572, shape=(), dtype=float32)\n",
            "Время эпохи 152 составляет 1.6781818866729736 секунд\n",
            "153/300: ===========: tf.Tensor(0.8871037, shape=(), dtype=float32)\n",
            "Время эпохи 153 составляет 1.5640053749084473 секунд\n",
            "154/300: ===========: tf.Tensor(0.821504, shape=(), dtype=float32)\n",
            "Время эпохи 154 составляет 1.4386708736419678 секунд\n",
            "155/300: ===========: tf.Tensor(0.80487967, shape=(), dtype=float32)\n",
            "Время эпохи 155 составляет 1.436781406402588 секунд\n",
            "156/300: ===========: tf.Tensor(0.83896357, shape=(), dtype=float32)\n",
            "Время эпохи 156 составляет 1.437551736831665 секунд\n",
            "157/300: ===========: tf.Tensor(0.82931286, shape=(), dtype=float32)\n",
            "Время эпохи 157 составляет 1.4353134632110596 секунд\n",
            "158/300: ===========: tf.Tensor(0.7908863, shape=(), dtype=float32)\n",
            "Время эпохи 158 составляет 1.4451103210449219 секунд\n",
            "159/300: ===========: tf.Tensor(0.8046112, shape=(), dtype=float32)\n",
            "Время эпохи 159 составляет 1.432826042175293 секунд\n",
            "160/300: ===========: tf.Tensor(0.80709887, shape=(), dtype=float32)\n",
            "Время эпохи 160 составляет 1.5817317962646484 секунд\n",
            "161/300: ===========: tf.Tensor(0.809735, shape=(), dtype=float32)\n",
            "Время эпохи 161 составляет 1.6116206645965576 секунд\n",
            "162/300: ===========: tf.Tensor(0.8086151, shape=(), dtype=float32)\n",
            "Время эпохи 162 составляет 1.4340643882751465 секунд\n",
            "163/300: ===========: tf.Tensor(0.8177397, shape=(), dtype=float32)\n",
            "Время эпохи 163 составляет 1.4396655559539795 секунд\n",
            "164/300: ===========: tf.Tensor(0.8105336, shape=(), dtype=float32)\n",
            "Время эпохи 164 составляет 1.4364068508148193 секунд\n",
            "165/300: ===========: tf.Tensor(0.7854191, shape=(), dtype=float32)\n",
            "Время эпохи 165 составляет 1.4376437664031982 секунд\n",
            "166/300: ===========: tf.Tensor(0.79654276, shape=(), dtype=float32)\n",
            "Время эпохи 166 составляет 1.4323437213897705 секунд\n",
            "167/300: ===========: tf.Tensor(0.8192695, shape=(), dtype=float32)\n",
            "Время эпохи 167 составляет 1.4374244213104248 секунд\n",
            "168/300: ===========: tf.Tensor(0.8218457, shape=(), dtype=float32)\n",
            "Время эпохи 168 составляет 1.5487573146820068 секунд\n",
            "169/300: ===========: tf.Tensor(0.80229044, shape=(), dtype=float32)\n",
            "Время эпохи 169 составляет 1.7030799388885498 секунд\n",
            "170/300: ===========: tf.Tensor(0.8001774, shape=(), dtype=float32)\n",
            "Время эпохи 170 составляет 1.4716622829437256 секунд\n",
            "171/300: ===========: tf.Tensor(0.84658706, shape=(), dtype=float32)\n",
            "Время эпохи 171 составляет 1.4355216026306152 секунд\n",
            "172/300: ===========: tf.Tensor(0.87943965, shape=(), dtype=float32)\n",
            "Время эпохи 172 составляет 1.4364991188049316 секунд\n",
            "173/300: ===========: tf.Tensor(0.86156344, shape=(), dtype=float32)\n",
            "Время эпохи 173 составляет 1.435258388519287 секунд\n",
            "174/300: ===========: tf.Tensor(0.8671062, shape=(), dtype=float32)\n",
            "Время эпохи 174 составляет 1.4451723098754883 секунд\n",
            "175/300: ===========: tf.Tensor(0.8309989, shape=(), dtype=float32)\n",
            "Время эпохи 175 составляет 1.4340004920959473 секунд\n",
            "176/300: ===========: tf.Tensor(0.8000493, shape=(), dtype=float32)\n",
            "Время эпохи 176 составляет 1.4976534843444824 секунд\n",
            "177/300: ===========: tf.Tensor(0.83832365, shape=(), dtype=float32)\n",
            "Время эпохи 177 составляет 1.6949186325073242 секунд\n",
            "178/300: ===========: tf.Tensor(0.81273866, shape=(), dtype=float32)\n",
            "Время эпохи 178 составляет 1.4906647205352783 секунд\n",
            "179/300: ===========: tf.Tensor(0.82812023, shape=(), dtype=float32)\n",
            "Время эпохи 179 составляет 1.4314634799957275 секунд\n",
            "180/300: ===========: tf.Tensor(0.80577344, shape=(), dtype=float32)\n",
            "Время эпохи 180 составляет 1.4408237934112549 секунд\n",
            "181/300: ===========: tf.Tensor(0.84476316, shape=(), dtype=float32)\n",
            "Время эпохи 181 составляет 1.4382381439208984 секунд\n",
            "182/300: ===========: tf.Tensor(0.82553357, shape=(), dtype=float32)\n",
            "Время эпохи 182 составляет 1.4563450813293457 секунд\n",
            "183/300: ===========: tf.Tensor(0.837732, shape=(), dtype=float32)\n",
            "Время эпохи 183 составляет 1.43583345413208 секунд\n",
            "184/300: ===========: tf.Tensor(0.84160995, shape=(), dtype=float32)\n",
            "Время эпохи 184 составляет 1.4374325275421143 секунд\n",
            "185/300: ===========: tf.Tensor(0.86125505, shape=(), dtype=float32)\n",
            "Время эпохи 185 составляет 1.6905090808868408 секунд\n",
            "186/300: ===========: tf.Tensor(0.8806019, shape=(), dtype=float32)\n",
            "Время эпохи 186 составляет 1.565967082977295 секунд\n",
            "187/300: ===========: tf.Tensor(0.83125687, shape=(), dtype=float32)\n",
            "Время эпохи 187 составляет 1.4282004833221436 секунд\n",
            "188/300: ===========: tf.Tensor(0.8532702, shape=(), dtype=float32)\n",
            "Время эпохи 188 составляет 1.430873155593872 секунд\n",
            "189/300: ===========: tf.Tensor(0.85253674, shape=(), dtype=float32)\n",
            "Время эпохи 189 составляет 1.4304842948913574 секунд\n",
            "190/300: ===========: tf.Tensor(0.8480185, shape=(), dtype=float32)\n",
            "Время эпохи 190 составляет 1.4404847621917725 секунд\n",
            "191/300: ===========: tf.Tensor(0.8046397, shape=(), dtype=float32)\n",
            "Время эпохи 191 составляет 1.4475300312042236 секунд\n",
            "192/300: ===========: tf.Tensor(0.8284131, shape=(), dtype=float32)\n",
            "Время эпохи 192 составляет 1.4306812286376953 секунд\n",
            "193/300: ===========: tf.Tensor(0.8446347, shape=(), dtype=float32)\n",
            "Время эпохи 193 составляет 1.5933868885040283 секунд\n",
            "194/300: ===========: tf.Tensor(0.83187866, shape=(), dtype=float32)\n",
            "Время эпохи 194 составляет 1.5847535133361816 секунд\n",
            "195/300: ===========: tf.Tensor(0.8232466, shape=(), dtype=float32)\n",
            "Время эпохи 195 составляет 1.4293792247772217 секунд\n",
            "196/300: ===========: tf.Tensor(0.80395937, shape=(), dtype=float32)\n",
            "Время эпохи 196 составляет 1.427875280380249 секунд\n",
            "197/300: ===========: tf.Tensor(0.87164813, shape=(), dtype=float32)\n",
            "Время эпохи 197 составляет 1.4291458129882812 секунд\n",
            "198/300: ===========: tf.Tensor(0.82786435, shape=(), dtype=float32)\n",
            "Время эпохи 198 составляет 1.4413745403289795 секунд\n",
            "199/300: ===========: tf.Tensor(0.8220213, shape=(), dtype=float32)\n",
            "Время эпохи 199 составляет 1.429922342300415 секунд\n",
            "200/300: ===========: tf.Tensor(0.84774256, shape=(), dtype=float32)\n",
            "Время эпохи 200 составляет 1.4315423965454102 секунд\n",
            "201/300: ===========: tf.Tensor(0.83946824, shape=(), dtype=float32)\n",
            "Время эпохи 201 составляет 1.514540195465088 секунд\n",
            "202/300: ===========: tf.Tensor(0.82133305, shape=(), dtype=float32)\n",
            "Время эпохи 202 составляет 1.6736178398132324 секунд\n",
            "203/300: ===========: tf.Tensor(0.86266685, shape=(), dtype=float32)\n",
            "Время эпохи 203 составляет 1.4223606586456299 секунд\n",
            "204/300: ===========: tf.Tensor(0.8338236, shape=(), dtype=float32)\n",
            "Время эпохи 204 составляет 1.4276325702667236 секунд\n",
            "205/300: ===========: tf.Tensor(0.83663434, shape=(), dtype=float32)\n",
            "Время эпохи 205 составляет 1.433523416519165 секунд\n",
            "206/300: ===========: tf.Tensor(0.8243511, shape=(), dtype=float32)\n",
            "Время эпохи 206 составляет 1.4317564964294434 секунд\n",
            "207/300: ===========: tf.Tensor(0.80159265, shape=(), dtype=float32)\n",
            "Время эпохи 207 составляет 1.4247148036956787 секунд\n",
            "208/300: ===========: tf.Tensor(0.8036532, shape=(), dtype=float32)\n",
            "Время эпохи 208 составляет 1.425858736038208 секунд\n",
            "209/300: ===========: tf.Tensor(0.8143879, shape=(), dtype=float32)\n",
            "Время эпохи 209 составляет 1.4490740299224854 секунд\n",
            "210/300: ===========: tf.Tensor(0.81300557, shape=(), dtype=float32)\n",
            "Время эпохи 210 составляет 1.6564533710479736 секунд\n",
            "211/300: ===========: tf.Tensor(0.80456525, shape=(), dtype=float32)\n",
            "Время эпохи 211 составляет 1.5070300102233887 секунд\n",
            "212/300: ===========: tf.Tensor(0.81834143, shape=(), dtype=float32)\n",
            "Время эпохи 212 составляет 1.444953203201294 секунд\n",
            "213/300: ===========: tf.Tensor(0.8104308, shape=(), dtype=float32)\n",
            "Время эпохи 213 составляет 1.4280264377593994 секунд\n",
            "214/300: ===========: tf.Tensor(0.8174578, shape=(), dtype=float32)\n",
            "Время эпохи 214 составляет 1.4339094161987305 секунд\n",
            "215/300: ===========: tf.Tensor(0.8178604, shape=(), dtype=float32)\n",
            "Время эпохи 215 составляет 1.4332921504974365 секунд\n",
            "216/300: ===========: tf.Tensor(0.81049806, shape=(), dtype=float32)\n",
            "Время эпохи 216 составляет 1.4258911609649658 секунд\n",
            "217/300: ===========: tf.Tensor(0.85270244, shape=(), dtype=float32)\n",
            "Время эпохи 217 составляет 1.4318041801452637 секунд\n",
            "218/300: ===========: tf.Tensor(0.8307722, shape=(), dtype=float32)\n",
            "Время эпохи 218 составляет 1.6152276992797852 секунд\n",
            "219/300: ===========: tf.Tensor(0.79382116, shape=(), dtype=float32)\n",
            "Время эпохи 219 составляет 1.5777556896209717 секунд\n",
            "220/300: ===========: tf.Tensor(0.82673043, shape=(), dtype=float32)\n",
            "Время эпохи 220 составляет 1.438462495803833 секунд\n",
            "221/300: ===========: tf.Tensor(0.83832216, shape=(), dtype=float32)\n",
            "Время эпохи 221 составляет 1.4363789558410645 секунд\n",
            "222/300: ===========: tf.Tensor(0.80547136, shape=(), dtype=float32)\n",
            "Время эпохи 222 составляет 2.5425827503204346 секунд\n",
            "223/300: ===========: tf.Tensor(0.8342241, shape=(), dtype=float32)\n",
            "Время эпохи 223 составляет 1.4231359958648682 секунд\n",
            "224/300: ===========: tf.Tensor(0.79989225, shape=(), dtype=float32)\n",
            "Время эпохи 224 составляет 1.4385623931884766 секунд\n",
            "225/300: ===========: tf.Tensor(0.8609679, shape=(), dtype=float32)\n",
            "Время эпохи 225 составляет 1.4934289455413818 секунд\n",
            "226/300: ===========: tf.Tensor(0.8404188, shape=(), dtype=float32)\n",
            "Время эпохи 226 составляет 1.6779210567474365 секунд\n",
            "227/300: ===========: tf.Tensor(0.8322019, shape=(), dtype=float32)\n",
            "Время эпохи 227 составляет 1.479844570159912 секунд\n",
            "228/300: ===========: tf.Tensor(0.8548782, shape=(), dtype=float32)\n",
            "Время эпохи 228 составляет 1.4407997131347656 секунд\n",
            "229/300: ===========: tf.Tensor(0.83207583, shape=(), dtype=float32)\n",
            "Время эпохи 229 составляет 1.4314360618591309 секунд\n",
            "230/300: ===========: tf.Tensor(0.8729518, shape=(), dtype=float32)\n",
            "Время эпохи 230 составляет 1.4432015419006348 секунд\n",
            "231/300: ===========: tf.Tensor(0.86646503, shape=(), dtype=float32)\n",
            "Время эпохи 231 составляет 1.4396984577178955 секунд\n",
            "232/300: ===========: tf.Tensor(0.8544529, shape=(), dtype=float32)\n",
            "Время эпохи 232 составляет 1.468541145324707 секунд\n",
            "233/300: ===========: tf.Tensor(0.84418553, shape=(), dtype=float32)\n",
            "Время эпохи 233 составляет 1.4312572479248047 секунд\n",
            "234/300: ===========: tf.Tensor(0.82148784, shape=(), dtype=float32)\n",
            "Время эпохи 234 составляет 1.6367371082305908 секунд\n",
            "235/300: ===========: tf.Tensor(0.81387925, shape=(), dtype=float32)\n",
            "Время эпохи 235 составляет 1.5327200889587402 секунд\n",
            "236/300: ===========: tf.Tensor(0.81878865, shape=(), dtype=float32)\n",
            "Время эпохи 236 составляет 1.4404332637786865 секунд\n",
            "237/300: ===========: tf.Tensor(0.8163848, shape=(), dtype=float32)\n",
            "Время эпохи 237 составляет 1.4348807334899902 секунд\n",
            "238/300: ===========: tf.Tensor(0.84337056, shape=(), dtype=float32)\n",
            "Время эпохи 238 составляет 1.4327471256256104 секунд\n",
            "239/300: ===========: tf.Tensor(0.83345115, shape=(), dtype=float32)\n",
            "Время эпохи 239 составляет 1.4454843997955322 секунд\n",
            "240/300: ===========: tf.Tensor(0.8569388, shape=(), dtype=float32)\n",
            "Время эпохи 240 составляет 1.4349205493927002 секунд\n",
            "241/300: ===========: tf.Tensor(0.8461712, shape=(), dtype=float32)\n",
            "Время эпохи 241 составляет 1.441366195678711 секунд\n",
            "242/300: ===========: tf.Tensor(0.85226864, shape=(), dtype=float32)\n",
            "Время эпохи 242 составляет 1.6015539169311523 секунд\n",
            "243/300: ===========: tf.Tensor(0.83122027, shape=(), dtype=float32)\n",
            "Время эпохи 243 составляет 1.5819954872131348 секунд\n",
            "244/300: ===========: tf.Tensor(0.83860576, shape=(), dtype=float32)\n",
            "Время эпохи 244 составляет 1.4390876293182373 секунд\n",
            "245/300: ===========: tf.Tensor(0.86332726, shape=(), dtype=float32)\n",
            "Время эпохи 245 составляет 1.4393081665039062 секунд\n",
            "246/300: ===========: tf.Tensor(0.8292806, shape=(), dtype=float32)\n",
            "Время эпохи 246 составляет 1.4513640403747559 секунд\n",
            "247/300: ===========: tf.Tensor(0.83679515, shape=(), dtype=float32)\n",
            "Время эпохи 247 составляет 1.4365193843841553 секунд\n",
            "248/300: ===========: tf.Tensor(0.81487954, shape=(), dtype=float32)\n",
            "Время эпохи 248 составляет 1.433173656463623 секунд\n",
            "249/300: ===========: tf.Tensor(0.8240179, shape=(), dtype=float32)\n",
            "Время эпохи 249 составляет 1.4291980266571045 секунд\n",
            "250/300: ===========: tf.Tensor(0.8343364, shape=(), dtype=float32)\n",
            "Время эпохи 250 составляет 1.5328032970428467 секунд\n",
            "251/300: ===========: tf.Tensor(0.83371824, shape=(), dtype=float32)\n",
            "Время эпохи 251 составляет 1.6685144901275635 секунд\n",
            "252/300: ===========: tf.Tensor(0.8173147, shape=(), dtype=float32)\n",
            "Время эпохи 252 составляет 1.436352252960205 секунд\n",
            "253/300: ===========: tf.Tensor(0.8292079, shape=(), dtype=float32)\n",
            "Время эпохи 253 составляет 1.4361317157745361 секунд\n",
            "254/300: ===========: tf.Tensor(0.83462954, shape=(), dtype=float32)\n",
            "Время эпохи 254 составляет 1.4340324401855469 секунд\n",
            "255/300: ===========: tf.Tensor(0.852965, shape=(), dtype=float32)\n",
            "Время эпохи 255 составляет 1.4369912147521973 секунд\n",
            "256/300: ===========: tf.Tensor(0.8398008, shape=(), dtype=float32)\n",
            "Время эпохи 256 составляет 1.4270706176757812 секунд\n",
            "257/300: ===========: tf.Tensor(0.8282253, shape=(), dtype=float32)\n",
            "Время эпохи 257 составляет 1.4374010562896729 секунд\n",
            "258/300: ===========: tf.Tensor(0.85468036, shape=(), dtype=float32)\n",
            "Время эпохи 258 составляет 1.4595081806182861 секунд\n",
            "259/300: ===========: tf.Tensor(0.8375585, shape=(), dtype=float32)\n",
            "Время эпохи 259 составляет 1.6493470668792725 секунд\n",
            "260/300: ===========: tf.Tensor(0.8452861, shape=(), dtype=float32)\n",
            "Время эпохи 260 составляет 1.486861228942871 секунд\n",
            "261/300: ===========: tf.Tensor(0.8440997, shape=(), dtype=float32)\n",
            "Время эпохи 261 составляет 1.434898853302002 секунд\n",
            "262/300: ===========: tf.Tensor(0.86132646, shape=(), dtype=float32)\n",
            "Время эпохи 262 составляет 1.4342098236083984 секунд\n",
            "263/300: ===========: tf.Tensor(0.8309546, shape=(), dtype=float32)\n",
            "Время эпохи 263 составляет 1.436462640762329 секунд\n",
            "264/300: ===========: tf.Tensor(0.8421233, shape=(), dtype=float32)\n",
            "Время эпохи 264 составляет 1.4327211380004883 секунд\n",
            "265/300: ===========: tf.Tensor(0.85286874, shape=(), dtype=float32)\n",
            "Время эпохи 265 составляет 1.434791088104248 секунд\n",
            "266/300: ===========: tf.Tensor(0.84502006, shape=(), dtype=float32)\n",
            "Время эпохи 266 составляет 1.4354450702667236 секунд\n",
            "267/300: ===========: tf.Tensor(0.82628846, shape=(), dtype=float32)\n",
            "Время эпохи 267 составляет 1.6214678287506104 секунд\n",
            "268/300: ===========: tf.Tensor(0.82992303, shape=(), dtype=float32)\n",
            "Время эпохи 268 составляет 1.5984036922454834 секунд\n",
            "269/300: ===========: tf.Tensor(0.82243854, shape=(), dtype=float32)\n",
            "Время эпохи 269 составляет 1.4276103973388672 секунд\n",
            "270/300: ===========: tf.Tensor(0.8225866, shape=(), dtype=float32)\n",
            "Время эпохи 270 составляет 1.425743579864502 секунд\n",
            "271/300: ===========: tf.Tensor(0.82452226, shape=(), dtype=float32)\n",
            "Время эпохи 271 составляет 1.4410409927368164 секунд\n",
            "272/300: ===========: tf.Tensor(0.8668825, shape=(), dtype=float32)\n",
            "Время эпохи 272 составляет 1.4296860694885254 секунд\n",
            "273/300: ===========: tf.Tensor(0.8730961, shape=(), dtype=float32)\n",
            "Время эпохи 273 составляет 1.4270329475402832 секунд\n",
            "274/300: ===========: tf.Tensor(0.82786083, shape=(), dtype=float32)\n",
            "Время эпохи 274 составляет 1.429917573928833 секунд\n",
            "275/300: ===========: tf.Tensor(0.84420604, shape=(), dtype=float32)\n",
            "Время эпохи 275 составляет 1.5614233016967773 секунд\n",
            "276/300: ===========: tf.Tensor(0.86014277, shape=(), dtype=float32)\n",
            "Время эпохи 276 составляет 1.5964372158050537 секунд\n",
            "277/300: ===========: tf.Tensor(0.8502955, shape=(), dtype=float32)\n",
            "Время эпохи 277 составляет 1.4374499320983887 секунд\n",
            "278/300: ===========: tf.Tensor(0.88433945, shape=(), dtype=float32)\n",
            "Время эпохи 278 составляет 1.4297254085540771 секунд\n",
            "279/300: ===========: tf.Tensor(0.89097303, shape=(), dtype=float32)\n",
            "Время эпохи 279 составляет 1.4360876083374023 секунд\n",
            "280/300: ===========: tf.Tensor(0.8490181, shape=(), dtype=float32)\n",
            "Время эпохи 280 составляет 1.4284770488739014 секунд\n",
            "281/300: ===========: tf.Tensor(0.84979457, shape=(), dtype=float32)\n",
            "Время эпохи 281 составляет 1.431452989578247 секунд\n",
            "282/300: ===========: tf.Tensor(0.84979004, shape=(), dtype=float32)\n",
            "Время эпохи 282 составляет 1.4316682815551758 секунд\n",
            "283/300: ===========: tf.Tensor(0.8318358, shape=(), dtype=float32)\n",
            "Время эпохи 283 составляет 1.4936180114746094 секунд\n",
            "284/300: ===========: tf.Tensor(0.8267299, shape=(), dtype=float32)\n",
            "Время эпохи 284 составляет 1.7130866050720215 секунд\n",
            "285/300: ===========: tf.Tensor(0.84297085, shape=(), dtype=float32)\n",
            "Время эпохи 285 составляет 1.4314441680908203 секунд\n",
            "286/300: ===========: tf.Tensor(0.8257144, shape=(), dtype=float32)\n",
            "Время эпохи 286 составляет 1.434485673904419 секунд\n",
            "287/300: ===========: tf.Tensor(0.8162072, shape=(), dtype=float32)\n",
            "Время эпохи 287 составляет 1.433645248413086 секунд\n",
            "288/300: ===========: tf.Tensor(0.825017, shape=(), dtype=float32)\n",
            "Время эпохи 288 составляет 1.439481496810913 секунд\n",
            "289/300: ===========: tf.Tensor(0.84270686, shape=(), dtype=float32)\n",
            "Время эпохи 289 составляет 1.4365346431732178 секунд\n",
            "290/300: ===========: tf.Tensor(0.8138014, shape=(), dtype=float32)\n",
            "Время эпохи 290 составляет 1.4365975856781006 секунд\n",
            "291/300: ===========: tf.Tensor(0.8307826, shape=(), dtype=float32)\n",
            "Время эпохи 291 составляет 1.4544835090637207 секунд\n",
            "292/300: ===========: tf.Tensor(0.8397549, shape=(), dtype=float32)\n",
            "Время эпохи 292 составляет 2.5498125553131104 секунд\n",
            "293/300: ===========: tf.Tensor(0.8236189, shape=(), dtype=float32)\n",
            "Время эпохи 293 составляет 1.4215366840362549 секунд\n",
            "294/300: ===========: tf.Tensor(0.8381088, shape=(), dtype=float32)\n",
            "Время эпохи 294 составляет 1.4183356761932373 секунд\n",
            "295/300: ===========: tf.Tensor(0.8453509, shape=(), dtype=float32)\n",
            "Время эпохи 295 составляет 1.435328722000122 секунд\n",
            "296/300: ===========: tf.Tensor(0.8478809, shape=(), dtype=float32)\n",
            "Время эпохи 296 составляет 1.427344799041748 секунд\n",
            "297/300: ===========: tf.Tensor(0.8325205, shape=(), dtype=float32)\n",
            "Время эпохи 297 составляет 1.4305825233459473 секунд\n",
            "298/300: ===========: tf.Tensor(0.80999285, shape=(), dtype=float32)\n",
            "Время эпохи 298 составляет 1.431363582611084 секунд\n",
            "299/300: ===========: tf.Tensor(0.8099816, shape=(), dtype=float32)\n",
            "Время эпохи 299 составляет 1.517439603805542 секунд\n",
            "300/300: ===========: tf.Tensor(0.816872, shape=(), dtype=float32)\n",
            "Время эпохи 300 составляет 1.6706135272979736 секунд\n"
          ]
        },
        {
          "output_type": "display_data",
          "data": {
            "text/plain": [
              "<Figure size 640x480 with 1 Axes>"
            ],
            "image/png": "[encoded data removed]"
          },
          "metadata": {}
        }
      ]
    },
    {
      "cell_type": "markdown",
      "source": [
        "Визуализация"
      ],
      "metadata": {
        "id": "0RghvKrsDdKi"
      }
    },
    {
      "cell_type": "code",
      "source": [
        "# отображение результатов генерации\n",
        "n = 2\n",
        "total = 2 * n + 1\n",
        "\n",
        "plt.figure(figsize=(total, total))"
      ],
      "metadata": {
        "id": "Cmqics-aPDeV",
        "outputId": "f2d1f87a-ee4a-4ac8-be01-c6258a047a3b",
        "colab": {
          "base_uri": "https://localhost:8080/",
          "height": 53
        }
      },
      "execution_count": 20,
      "outputs": [
        {
          "output_type": "execute_result",
          "data": {
            "text/plain": [
              "<Figure size 500x500 with 0 Axes>"
            ]
          },
          "metadata": {},
          "execution_count": 20
        },
        {
          "output_type": "display_data",
          "data": {
            "text/plain": [
              "<Figure size 500x500 with 0 Axes>"
            ]
          },
          "metadata": {}
        }
      ]
    },
    {
      "cell_type": "code",
      "source": [
        "num = 1\n",
        "for i in range(-n, n + 1):\n",
        "  for j in range(-n, n + 1):\n",
        "    ax = plt.subplot(total, total, num)\n",
        "    num += 1\n",
        "    img = generator.predict(np.expand_dims([0.5 * i / n, 0.5 * j / n], axis=0))\n",
        "    plt.imshow(img[0, :, :, 0], cmap='gray')\n",
        "    ax.get_xaxis().set_visible(False)\n",
        "    ax.get_yaxis().set_visible(False)\n",
        "\n",
        "plt.show()"
      ],
      "metadata": {
        "id": "UUe5vaBePGaM",
        "outputId": "5d7c4614-4dd1-4930-8c69-5d83f282861b",
        "colab": {
          "base_uri": "https://localhost:8080/",
          "height": 862
        }
      },
      "execution_count": 23,
      "outputs": [
        {
          "output_type": "stream",
          "name": "stdout",
          "text": [
            "1/1 [==============================] - 0s 19ms/step\n",
            "1/1 [==============================] - 0s 18ms/step\n",
            "1/1 [==============================] - 0s 19ms/step\n",
            "1/1 [==============================] - 0s 17ms/step\n",
            "1/1 [==============================] - 0s 17ms/step\n",
            "1/1 [==============================] - 0s 17ms/step\n",
            "1/1 [==============================] - 0s 17ms/step\n",
            "1/1 [==============================] - 0s 19ms/step\n",
            "1/1 [==============================] - 0s 21ms/step\n",
            "1/1 [==============================] - 0s 18ms/step\n",
            "1/1 [==============================] - 0s 17ms/step\n",
            "1/1 [==============================] - 0s 16ms/step\n",
            "1/1 [==============================] - 0s 17ms/step\n",
            "1/1 [==============================] - 0s 22ms/step\n",
            "1/1 [==============================] - 0s 20ms/step\n",
            "1/1 [==============================] - 0s 20ms/step\n",
            "1/1 [==============================] - 0s 19ms/step\n",
            "1/1 [==============================] - 0s 18ms/step\n",
            "1/1 [==============================] - 0s 17ms/step\n",
            "1/1 [==============================] - 0s 19ms/step\n",
            "1/1 [==============================] - 0s 17ms/step\n",
            "1/1 [==============================] - 0s 18ms/step\n",
            "1/1 [==============================] - 0s 21ms/step\n",
            "1/1 [==============================] - 0s 24ms/step\n",
            "1/1 [==============================] - 0s 18ms/step\n"
          ]
        },
        {
          "output_type": "display_data",
          "data": {
            "text/plain": [
              "<Figure size 640x480 with 25 Axes>"
            ],
            "image/png": "[encoded data removed]"
          },
          "metadata": {}
        }
      ]
    },
    {
      "cell_type": "markdown",
      "source": [
        "В результате процесса обучения установлено 300 эпох обучения, оптимизатор Adam и бинарная кросс-энтропия в качестве функции потерь. С увеличением количества эпох обучения наблюдается улучшение результатов тестирования модели."
      ],
      "metadata": {
        "id": "ac7Ra5_e7uEO"
      }
    },
    {
      "cell_type": "markdown",
      "source": [
        "**Вывод:** в ходе выполнения работы создана сеть генератора и дискриминатора, установлены размер бэтча, количество эпох обучения, функция потерь и оптимизатор."
      ],
      "metadata": {
        "id": "tdCxUPKq88S6"
      }
    },
    {
      "cell_type": "markdown",
      "source": [
        "Модификация модели\n",
        "\n",
        "Ваша задача - дополнить код и модифицировать данный ноутбук. Необходимо дополнить следующие параметры:\n",
        "\n",
        "* Создать сеть генератора и дискриминатора.\n",
        "* Установить\n",
        "  * Размер батча\n",
        "  * Количество эпох обучения\n",
        "  * Функцию потерь\n",
        "  * Оптимизаторы"
      ],
      "metadata": {
        "id": "JKKprMebFbdg"
      }
    },
    {
      "cell_type": "markdown",
      "source": [
        "**Оценка работы**\n",
        "\n",
        "Оценка работы будет производиться на основе полученных результатов. Необходимо предоставить отчет, в котором будет содержаться:\n",
        "\n",
        "* Описание проведенных модификаций\n",
        "* Графики обучения модели\n",
        "* Результаты тестирования модели\n",
        "* Код\n",
        "\n",
        "Успехов в выполнении лабораторной работы!"
      ],
      "metadata": {
        "id": "ve4aXuT8FfJW"
      }
    }
  ]
}