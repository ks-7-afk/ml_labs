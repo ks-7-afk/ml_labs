{
  "nbformat": 4,
  "nbformat_minor": 0,
  "metadata": {
    "colab": {
      "provenance": []
    },
    "kernelspec": {
      "name": "python3",
      "display_name": "Python 3"
    },
    "language_info": {
      "name": "python"
    },
    "accelerator": "GPU",
    "gpuClass": "standard"
  },
  "cells": [
    {
      "cell_type": "markdown",
      "metadata": {
        "id": "PJHy7vziiPnC"
      },
      "source": [
        "# Лабораторная работа по классификации MNIST с использованием нескольких алгоритмов машинного обучения \n",
        "\n",
        "**Цель работы**\n",
        "\n",
        "Целью данной лабораторной работы является изучение нескольких алгоритмов машинного обучения для классификации изображений рукописных цифр из набора данных MNIST.\n",
        "\n",
        "**Задачи работы**\n",
        "\n",
        "* Изучить набор данных MNIST и его структуру\n",
        "* Изучить и реализовать **несколько** алгоритмов машинного обучения для классификации MNIST\n",
        "* Обучить модели на наборе данных MNIST\n",
        "* Оценить качество работы моделей и сравнить результаты\n",
        "* Предложить улучшения и оптимизации для моделей\n",
        "\n",
        "**Набор данных MNIST**\n",
        "\n",
        "Набор данных MNIST является стандартным набором данных для задач распознавания образов. Он состоит из 70 000 изображений рукописных цифр от 0 до 9, каждое изображение имеет размер 28x28 пикселей. "
      ]
    },
    {
      "cell_type": "markdown",
      "metadata": {
        "id": "eRteSKZ5VKai"
      },
      "source": [
        "# Импорт библиотек\n",
        "\n",
        "Для работы с данными и моделями нам понадобятся следующие библиотеки: numpy, pandas, matplotlib, scikit-learn."
      ]
    },
    {
      "cell_type": "code",
      "metadata": {
        "id": "kvM84NDjxCnK"
      },
      "source": [
        "import numpy as np\n",
        "import pandas as pd\n",
        "import matplotlib.pyplot as plt\n",
        "%matplotlib inline"
      ],
      "execution_count": null,
      "outputs": []
    },
    {
      "cell_type": "markdown",
      "metadata": {
        "id": "YjYDp6nXWWmQ"
      },
      "source": [
        "Загрузка и нормализация данных (Например, используйте keras.datasets - mnist или fetch_openml('mnist_784') для загрузки набора данных mnist)"
      ]
    },
    {
      "cell_type": "code",
      "metadata": {
        "id": "FzyQGtNfzMsI",
        "cellView": "code",
        "outputId": "ad5f81c0-0bd3-4a47-d8be-45a6bd32d57c",
        "colab": {
          "base_uri": "https://localhost:8080/"
        }
      },
      "source": [
        "# Загрузка данных\n",
        "from sklearn.datasets import fetch_openml\n",
        "from sklearn.model_selection import train_test_split\n",
        "mnist = fetch_openml('mnist_784')\n",
        "\n",
        "# Создаем датафрейм из данных MNIST\n",
        "X = pd.DataFrame(mnist.data)\n",
        "y = pd.Series(mnist.target)\n",
        "\n",
        "# Разделяем данные на тренировочную и тестовую выборки\n",
        "X_train, X_test, y_train, y_test = train_test_split(X, y, test_size=0.20, random_state=42)\n"
      ],
      "execution_count": null,
      "outputs": [
        {
          "output_type": "stream",
          "name": "stderr",
          "text": [
            "/usr/local/lib/python3.9/dist-packages/sklearn/datasets/_openml.py:968: FutureWarning: The default value of `parser` will change from `'liac-arff'` to `'auto'` in 1.4. You can set `parser='auto'` to silence this warning. Therefore, an `ImportError` will be raised from 1.4 if the dataset is dense and pandas is not installed. Note that the pandas parser may return different data types. See the Notes Section in fetch_openml's API doc for details.\n",
            "  warn(\n"
          ]
        }
      ]
    },
    {
      "cell_type": "markdown",
      "source": [
        "Визуализация данных"
      ],
      "metadata": {
        "id": "6AUK8d5HKdYB"
      }
    },
    {
      "cell_type": "code",
      "metadata": {
        "id": "NrcMAZywKnKK",
        "outputId": "5e0b9aec-e3c0-4eb8-a485-d08d311b8d59",
        "colab": {
          "base_uri": "https://localhost:8080/",
          "height": 485
        }
      },
      "source": [
        "# Отображение случайного изображения из обучающего набора данных\n",
        "plt.figure(figsize=(5,5))\n",
        "index = np.random.choice(X_train.shape[0])\n",
        "plt.imshow(X_train.iloc[index].to_numpy().reshape(28,28), cmap='gray')\n",
        "plt.title('Label: {}'.format(y_train[index]))"
      ],
      "execution_count": null,
      "outputs": [
        {
          "output_type": "execute_result",
          "data": {
            "text/plain": [
              "Text(0.5, 1.0, 'Label: 6')"
            ]
          },
          "metadata": {},
          "execution_count": 3
        },
        {
          "output_type": "display_data",
          "data": {
            "text/plain": [
              "<Figure size 500x500 with 1 Axes>"
            ],
            "image/png": "[encoded data removed]"
          },
          "metadata": {}
        }
      ]
    },
    {
      "cell_type": "markdown",
      "source": [
        "Реализация и обучение моделей"
      ],
      "metadata": {
        "id": "ZD6eMToHWAmS"
      }
    },
    {
      "cell_type": "code",
      "source": [
        "## Реализация и обучение моделей\n",
        "\n",
        "#метод k-ближайших соседей\n",
        "\n",
        "from sklearn.neighbors import KNeighborsClassifier\n",
        "neigh = KNeighborsClassifier(n_neighbors=3)\n",
        "neigh.fit(X_train, y_train) #обучим модель на тренировочных данных\n",
        "\n",
        "#дерево принятия решений\n",
        "\n",
        "from sklearn.tree import DecisionTreeClassifier\n",
        "\n",
        "dtc=DecisionTreeClassifier(criterion=\"entropy\", max_depth=100)\n",
        "dtc.fit(X_train, y_train) #обучим модель на тренировочных данных\n",
        "\n",
        "#алгоритм случайного леса\n",
        "\n",
        "from sklearn.ensemble import RandomForestClassifier\n",
        "\n",
        "rfc=RandomForestClassifier(n_estimators=100)\n",
        "rfc.fit(X_train,y_train) #обучим модель на тренировочных данных\n",
        "\n",
        "#SVM\n",
        "\n",
        "from sklearn.svm import SVC\n",
        "\n",
        "svc=SVC(C=1.5)\n",
        "svc.fit(X_train,y_train) #обучим модель на тренировочных данных\n"
      ],
      "metadata": {
        "id": "B1RopQvYWBpy",
        "outputId": "48eb1293-d3ef-4a50-c992-381b10e49808",
        "colab": {
          "base_uri": "https://localhost:8080/",
          "height": 74
        }
      },
      "execution_count": null,
      "outputs": [
        {
          "output_type": "execute_result",
          "data": {
            "text/plain": [
              "SVC()"
            ],
            "text/html": [
              "<style>#sk-container-id-1 {color: black;background-color: white;}#sk-container-id-1 pre{padding: 0;}#sk-container-id-1 div.sk-toggleable {background-color: white;}#sk-container-id-1 label.sk-toggleable__label {cursor: pointer;display: block;width: 100%;margin-bottom: 0;padding: 0.3em;box-sizing: border-box;text-align: center;}#sk-container-id-1 label.sk-toggleable__label-arrow:before {content: \"▸\";float: left;margin-right: 0.25em;color: #696969;}#sk-container-id-1 label.sk-toggleable__label-arrow:hover:before {color: black;}#sk-container-id-1 div.sk-estimator:hover label.sk-toggleable__label-arrow:before {color: black;}#sk-container-id-1 div.sk-toggleable__content {max-height: 0;max-width: 0;overflow: hidden;text-align: left;background-color: #f0f8ff;}#sk-container-id-1 div.sk-toggleable__content pre {margin: 0.2em;color: black;border-radius: 0.25em;background-color: #f0f8ff;}#sk-container-id-1 input.sk-toggleable__control:checked~div.sk-toggleable__content {max-height: 200px;max-width: 100%;overflow: auto;}#sk-container-id-1 input.sk-toggleable__control:checked~label.sk-toggleable__label-arrow:before {content: \"▾\";}#sk-container-id-1 div.sk-estimator input.sk-toggleable__control:checked~label.sk-toggleable__label {background-color: #d4ebff;}#sk-container-id-1 div.sk-label input.sk-toggleable__control:checked~label.sk-toggleable__label {background-color: #d4ebff;}#sk-container-id-1 input.sk-hidden--visually {border: 0;clip: rect(1px 1px 1px 1px);clip: rect(1px, 1px, 1px, 1px);height: 1px;margin: -1px;overflow: hidden;padding: 0;position: absolute;width: 1px;}#sk-container-id-1 div.sk-estimator {font-family: monospace;background-color: #f0f8ff;border: 1px dotted black;border-radius: 0.25em;box-sizing: border-box;margin-bottom: 0.5em;}#sk-container-id-1 div.sk-estimator:hover {background-color: #d4ebff;}#sk-container-id-1 div.sk-parallel-item::after {content: \"\";width: 100%;border-bottom: 1px solid gray;flex-grow: 1;}#sk-container-id-1 div.sk-label:hover label.sk-toggleable__label {background-color: #d4ebff;}#sk-container-id-1 div.sk-serial::before {content: \"\";position: absolute;border-left: 1px solid gray;box-sizing: border-box;top: 0;bottom: 0;left: 50%;z-index: 0;}#sk-container-id-1 div.sk-serial {display: flex;flex-direction: column;align-items: center;background-color: white;padding-right: 0.2em;padding-left: 0.2em;position: relative;}#sk-container-id-1 div.sk-item {position: relative;z-index: 1;}#sk-container-id-1 div.sk-parallel {display: flex;align-items: stretch;justify-content: center;background-color: white;position: relative;}#sk-container-id-1 div.sk-item::before, #sk-container-id-1 div.sk-parallel-item::before {content: \"\";position: absolute;border-left: 1px solid gray;box-sizing: border-box;top: 0;bottom: 0;left: 50%;z-index: -1;}#sk-container-id-1 div.sk-parallel-item {display: flex;flex-direction: column;z-index: 1;position: relative;background-color: white;}#sk-container-id-1 div.sk-parallel-item:first-child::after {align-self: flex-end;width: 50%;}#sk-container-id-1 div.sk-parallel-item:last-child::after {align-self: flex-start;width: 50%;}#sk-container-id-1 div.sk-parallel-item:only-child::after {width: 0;}#sk-container-id-1 div.sk-dashed-wrapped {border: 1px dashed gray;margin: 0 0.4em 0.5em 0.4em;box-sizing: border-box;padding-bottom: 0.4em;background-color: white;}#sk-container-id-1 div.sk-label label {font-family: monospace;font-weight: bold;display: inline-block;line-height: 1.2em;}#sk-container-id-1 div.sk-label-container {text-align: center;}#sk-container-id-1 div.sk-container {/* jupyter's `normalize.less` sets `[hidden] { display: none; }` but bootstrap.min.css set `[hidden] { display: none !important; }` so we also need the `!important` here to be able to override the default hidden behavior on the sphinx rendered scikit-learn.org. See: https://github.com/scikit-learn/scikit-learn/issues/21755 */display: inline-block !important;position: relative;}#sk-container-id-1 div.sk-text-repr-fallback {display: none;}</style><div id=\"sk-container-id-1\" class=\"sk-top-container\"><div class=\"sk-text-repr-fallback\"><pre>SVC()</pre><b>In a Jupyter environment, please rerun this cell to show the HTML representation or trust the notebook. <br />On GitHub, the HTML representation is unable to render, please try loading this page with nbviewer.org.</b></div><div class=\"sk-container\" hidden><div class=\"sk-item\"><div class=\"sk-estimator sk-toggleable\"><input class=\"sk-toggleable__control sk-hidden--visually\" id=\"sk-estimator-id-1\" type=\"checkbox\" checked><label for=\"sk-estimator-id-1\" class=\"sk-toggleable__label sk-toggleable__label-arrow\">SVC</label><div class=\"sk-toggleable__content\"><pre>SVC()</pre></div></div></div></div></div>"
            ]
          },
          "metadata": {},
          "execution_count": 21
        }
      ]
    },
    {
      "cell_type": "markdown",
      "source": [
        "Оценка качества моделей"
      ],
      "metadata": {
        "id": "8XexQiIuWM_t"
      }
    },
    {
      "cell_type": "code",
      "source": [
        "##Оценка качества моделей\n",
        "\n",
        "from sklearn.metrics import accuracy_score, precision_score, recall_score, f1_score,confusion_matrix\n",
        "\n",
        "#метод k-ближайших соседей\n",
        "\n",
        "y_pred=neigh.predict(X_test)\n",
        "print(\"knn method\")\n",
        "\n",
        "print(f\"F1 {f1_score(y_test, y_pred, average='micro')}\")\n",
        "\n",
        "#дерево принятия решений\n",
        "\n",
        "y_pred=dtc.predict(X_test)\n",
        "print(\"decision tree method\")\n",
        "\n",
        "print(f\"F1 {f1_score(y_test, y_pred, average='micro')}\")\n",
        "\n",
        "#алгоритм случайного леса\n",
        "\n",
        "y_pred=rfc.predict(X_test)\n",
        "\n",
        "print(\"random forest\")\n",
        "\n",
        "print(f\"F1 {f1_score(y_test, y_pred, average='micro')}\")\n",
        "\n",
        "\n",
        "#SVM\n",
        "\n",
        "y_pred=svc.predict(X_test)\n",
        "print(\"SVM\")\n",
        "\n",
        "print(f\"F1 {f1_score(y_test, y_pred, average='micro')}\")\n",
        "\n",
        "\n",
        "\n"
      ],
      "metadata": {
        "id": "JQC4Dz5AWOj9",
        "outputId": "184bd2cf-0c30-4820-a2b7-6d362a1fe059",
        "colab": {
          "base_uri": "https://localhost:8080/"
        }
      },
      "execution_count": null,
      "outputs": [
        {
          "output_type": "stream",
          "name": "stdout",
          "text": [
            "knn method\n",
            "F1 0.9712857142857143\n",
            "decision tree method\n",
            "F1 0.8815714285714286\n",
            "random forest\n",
            "F1 0.9667857142857142\n",
            "SVM\n",
            "F1 0.9764285714285714\n"
          ]
        }
      ]
    },
    {
      "cell_type": "markdown",
      "source": [
        "Сравнение результатов"
      ],
      "metadata": {
        "id": "J5LimApIWWn0"
      }
    },
    {
      "cell_type": "code",
      "source": [
        "##Сравнение результатов\n",
        "Согласно оценке F1 наилучшие результаты наблюдаются у метода опорных векторов, метода ближайших соседей и метода случайного леса. \n",
        "Наихудшие результаты из рассмотренных методов наблюдаются у алгоритма \"дерево принятия решений\""
      ],
      "metadata": {
        "id": "LBKYQ71-WXdZ"
      },
      "execution_count": null,
      "outputs": []
    },
    {
      "cell_type": "markdown",
      "source": [
        "Выводы"
      ],
      "metadata": {
        "id": "szb7uZ2JWcYv"
      }
    },
    {
      "cell_type": "code",
      "source": [
        "## Выводы\n",
        "В ходе практической работы были изучены и реализованы следующие алгоритмы машинного обучения: метод ближайших соседей,\n",
        "дерево принятия решений, алгоритм случайного леса, метод опорных векторов. Данные модели были обучены на данных из набора MNIST. \n",
        "Проведена оценка моделей, в ходе которой выявлено, что наилучшие результаты наблюдаются у метода опорных векторов, а наихудшие у дерева принятия решений. \n",
        "При этом метод опорных векторов значительно уступает в скорости обучения другим методам.\n",
        "Для улучшения показателей качества моделей можно использовать ансамблевые методы, но при этом увеличивается время обучения моделей."
      ],
      "metadata": {
        "id": "h-zhuFFFWfXK"
      },
      "execution_count": null,
      "outputs": []
    },
    {
      "cell_type": "markdown",
      "metadata": {
        "id": "aEwPBvRvkASl"
      },
      "source": [
        "## Ответы на вопросы.\n",
        "1. Что такое набор данных MNIST и для чего он используется в машинном обучении?\n",
        "  \n",
        "  Набор данных MNIST является стандартным набором данных для задач распознавания образов. Он состоит из 70 000 изображений рукописных цифр от 0 до 9, каждое изображение имеет размер 28x28 пикселей.\n",
        "\n",
        "2. Какие алгоритмы машинного обучения вы использовали для классификации данных MNIST и как они работают?\n",
        "\n",
        " Метод k-ближайших соседей. Этот метод работает с помощью поиска кратчайшей дистанции между тестируемым объектом и ближайшими к нему классифицированным объектами из обучающего набора. Классифицируемый объект будет относится к тому классу, к которому принадлежит ближайший объект набора.\n",
        "\t\t\n",
        "    Дерево принятия решений. Цель состоит в том, чтобы создать модель, которая предсказывает значение целевой переменной, изучая простые правила принятия решений, выведенные из характеристик данных. \n",
        "    \n",
        "    Алгоритм случайного леса. Случайный лес сочетает сотни или тысячи деревьев принятия решений, обучая каждое на отдельной выборке данных, разделяя узлы в каждом дереве с использованием ограниченного набора параметров. Итоговый прогноз делается путём усреднения прогнозов от всех деревьев. \t\n",
        "    \n",
        "    Метод опорных векторов. Основной задачей алгоритма является найти наиболее правильную линию, или гиперплоскость разделяющую данные классы. Текст, выделенный полужирным шрифтом \n",
        "\n",
        "\t\n",
        "3. Какие параметры модели вы настраивали для улучшения ее производительности, и как они влияют на результаты моделирования? \n",
        "\n",
        "  Для метода ближайших соседей использовался параметр количества соседей для оценки. При увеличении данного параметра наблюдаются небольшие потери точности.\n",
        "\n",
        "  Для метода дерева принятия решений задавался параметр максимальной глубины дерева, чтобы избежать переобучения модели.\n",
        "\n",
        "  Для алгоритма случайного леса задавался параметр количества деревьев. При увеличении параметра наблюдается повышение качества модели, при этом может возникать переобучение модели. \n",
        "\n",
        "  Для метода опорных векторов параметр С помогает регулировать  “гладкость” и точностью классификации объектов обучающей выборки. Чем больше значение С, тем  выше точность классификации.\n",
        "\n",
        "4. Как вы оценивали производительность своих моделей и почему выбрали те или иные метрики оценки? \n",
        "\n",
        "  При оценивании использовалась метрика F1, так как она учитывает точность и полноту модели.\n",
        "  \n",
        "![formuls.jpg](data:image/jpeg;base64,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)\n",
        "5. Как вы можете улучшить производительность ваших моделей и какие проблемы могут возникнуть при этом?\n",
        "\n",
        "  Для улучшения показателей качества моделей можно использовать ансамблевые методы, большее количество данных, но при этом может возникнуть явление переобучения модели и увеличится время обучения моделей. \n"
      ]
    }
  ]
}